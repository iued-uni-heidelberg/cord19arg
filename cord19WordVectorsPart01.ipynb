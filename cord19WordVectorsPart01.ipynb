{
  "nbformat": 4,
  "nbformat_minor": 0,
  "metadata": {
    "language_info": {
      "codemirror_mode": {
        "name": "ipython",
        "version": 3
      },
      "file_extension": ".py",
      "mimetype": "text/x-python",
      "name": "python",
      "nbconvert_exporter": "python",
      "pygments_lexer": "ipython3",
      "version": "3.8.3"
    },
    "orig_nbformat": 4,
    "kernelspec": {
      "name": "python3",
      "display_name": "Python 3.8.3 64-bit"
    },
    "interpreter": {
      "hash": "aee8b7b246df8f9039afb4144a1f6fd8d2ca17a180786b69acc140d282b71a49"
    },
    "colab": {
      "name": "cord19WordVectorsPart01.ipynb",
      "provenance": [],
      "include_colab_link": true
    }
  },
  "cells": [
    {
      "cell_type": "markdown",
      "metadata": {
        "id": "view-in-github",
        "colab_type": "text"
      },
      "source": [
        "<a href=\"https://colab.research.google.com/github/iued-uni-heidelberg/cord19arg/blob/main/cord19WordVectorsPart01.ipynb\" target=\"_parent\"><img src=\"https://colab.research.google.com/assets/colab-badge.svg\" alt=\"Open In Colab\"/></a>"
      ]
    },
    {
      "cell_type": "markdown",
      "metadata": {
        "id": "Ty2YWcLcvKl4"
      },
      "source": [
        "# Word Vectors\n",
        "\n",
        "Word vectors (also known as 'word embeddings') are one of the most popular kinds of AI models. They are extremely useful in many domains. In essence, a word vector is a set of numbers that attempt to capture the meaning of a word. In typical implementations, each word is represented by a set of 200-300 numbers. In linear algebra, a one-dimensional array of numbers is known as a 'vector', hence these sets of numbers representing words' meanings are known as 'word vectors'.\n",
        "\n",
        "Using neural networks, we can expose the computer to a large amount of text, and allow it to learn an appropriate set of numbers for each word it encounters. In this notebook, we will learn about the most famous of all word vector algorithms, `word2vec`, which was first described by Tomas Mikolov and his team in 2013:\n",
        "\n",
        "* Tomas Mikolov, Ilya Sutskever, and others, ‘Distributed Representations of Words and Phrases and Their Compositionality’, in Advances in Neural Information Processing Systems 26, ed. by C. J. C. Burges and others (Curran Associates, Inc., 2013), pp. 3111–19 <http://papers.nips.cc/paper/5021-distributed-representations-of-words-and-phrases-and-their-compositionality.pdf>\n",
        "* Tomas Mikolov, Kai Chen, and others, ‘Efficient Estimation of Word Representations in Vector Space’, ArXiv:1301.3781 Cs, 2013 <http://arxiv.org/abs/1301.3781>.\n",
        "\n",
        "In fact, `word2vec` is not a single algorithm, but rather a family of similar algorithms. In this session we will consider just the most famous `word2vec` algorithm, namely the `skip-gram model` trained using `negative sampling`."
      ]
    },
    {
      "cell_type": "markdown",
      "metadata": {
        "id": "SWLKKQ0lvKl5"
      },
      "source": [
        "## Applications of Word Vectors\n",
        "\n",
        "Word vectors allow the computer to 'understand' language far more effectively. Rather than seeing each word as simply an arbitrarily different object, a computer using word vectors can analyse each word as a point in 200- or 300-dimenstional space. Words that are similar in meaning will have similar word vectors. And as we will see, the spaces between the word vectors are also significant: the words are arranged in patterns that represent their relationships to one another.\n",
        "\n",
        "Accordingly, most AI systems that process language now include a word vector layer as part of their architecure. When the system encounters some text (e.g. when you speak to Siri or Alexa), your words are converted into word vectors, *and then* the computer examines what the text says and determines how it should respond.\n",
        "\n",
        "In the Humanities, word vectors have become a popular modelling tool, because they allow researchers to perform sophisticated analysis on large corpora of text. Some examples include:\n",
        "\n",
        "* [The Women Writers Vector Toolkit](https://wwp.northeastern.edu/lab/wwvt/index.html)\n",
        "* William L. Hamilton, Jure Leskovec, and Dan Jurafsky, ‘Diachronic Word Embeddings Reveal Statistical Laws of Semantic Change’, ArXiv:1605.09096 [Cs], 2018 <http://arxiv.org/abs/1605.09096>.\n",
        "* Ryan Heuser, 'Semantic Networks' <https://ryanheuser.org/word-vectors-4/>"
      ]
    },
    {
      "cell_type": "markdown",
      "metadata": {
        "id": "o4ZWncLevKl5"
      },
      "source": [
        "## Training a `word2vec` model in Gensim\n",
        "\n",
        "It is very easy to train a `word2vec` model in Gensim, which includes Mikolov's original `word2vec` code in its codebase."
      ]
    },
    {
      "cell_type": "markdown",
      "metadata": {
        "id": "xF5AOwyWH2l4"
      },
      "source": [
        "## CORD corpus models\n",
        "modify this to merge more files into your corpus "
      ]
    },
    {
      "cell_type": "code",
      "metadata": {
        "id": "wzsJM-_MH6un",
        "colab": {
          "base_uri": "https://localhost:8080/"
        },
        "outputId": "5639ec45-f995-4bab-d59c-d3c1af91e66d"
      },
      "source": [
        "!rm /usr/local/lib/python3.7/dist-packages/gensim/test/test_data/myOwnLangText8.txt\n"
      ],
      "execution_count": 1,
      "outputs": [
        {
          "output_type": "stream",
          "name": "stdout",
          "text": [
            "rm: cannot remove '/usr/local/lib/python3.7/dist-packages/gensim/test/test_data/myOwnLangText8.txt': No such file or directory\n"
          ]
        }
      ]
    },
    {
      "cell_type": "code",
      "metadata": {
        "id": "2eH5fU-jJjev",
        "colab": {
          "base_uri": "https://localhost:8080/"
        },
        "outputId": "b45ccf25-0a9d-460e-85ee-bbaf4f6e3f89"
      },
      "source": [
        "!wget https://heibox.uni-heidelberg.de/f/e9643d5305d94c5cb787/?dl=1\n",
        "!mv index.html?dl=1 file1.zip\n",
        "!wget https://heibox.uni-heidelberg.de/f/76525e4278114c438f1c/?dl=1\n",
        "!mv index.html?dl=1 file2.zip\n",
        "!wget https://heibox.uni-heidelberg.de/f/062f72f9e79e4ba5ae4e/?dl=1\n",
        "!mv index.html?dl=1 file3.zip\n",
        "!wget https://heibox.uni-heidelberg.de/f/4e290ad989a046caaef4/?dl=1\n",
        "!mv index.html?dl=1 file4.zip\n",
        "!wget https://heibox.uni-heidelberg.de/f/5ec055c8956348d98a44/?dl=1\n",
        "!mv index.html?dl=1 file5.zip\n",
        "\n",
        "!unzip file1.zip\n",
        "!unzip file2.zip\n",
        "!unzip file3.zip\n",
        "!unzip file4.zip\n",
        "!unzip file5.zip"
      ],
      "execution_count": 2,
      "outputs": [
        {
          "output_type": "stream",
          "name": "stdout",
          "text": [
            "--2021-09-23 11:00:01--  https://heibox.uni-heidelberg.de/f/e9643d5305d94c5cb787/?dl=1\n",
            "Resolving heibox.uni-heidelberg.de (heibox.uni-heidelberg.de)... 129.206.7.113\n",
            "Connecting to heibox.uni-heidelberg.de (heibox.uni-heidelberg.de)|129.206.7.113|:443... connected.\n",
            "HTTP request sent, awaiting response... 302 Found\n",
            "Location: https://heibox.uni-heidelberg.de/seafhttp/files/f7e0f408-0e5a-4893-95d6-892ff91c11a4/covid1_lem.txt.zip [following]\n",
            "--2021-09-23 11:00:02--  https://heibox.uni-heidelberg.de/seafhttp/files/f7e0f408-0e5a-4893-95d6-892ff91c11a4/covid1_lem.txt.zip\n",
            "Reusing existing connection to heibox.uni-heidelberg.de:443.\n",
            "HTTP request sent, awaiting response... 200 OK\n",
            "Length: 178483068 (170M) [application/zip]\n",
            "Saving to: ‘index.html?dl=1’\n",
            "\n",
            "index.html?dl=1     100%[===================>] 170.21M  14.9MB/s    in 12s     \n",
            "\n",
            "2021-09-23 11:00:14 (14.5 MB/s) - ‘index.html?dl=1’ saved [178483068/178483068]\n",
            "\n",
            "--2021-09-23 11:00:14--  https://heibox.uni-heidelberg.de/f/76525e4278114c438f1c/?dl=1\n",
            "Resolving heibox.uni-heidelberg.de (heibox.uni-heidelberg.de)... 129.206.7.113\n",
            "Connecting to heibox.uni-heidelberg.de (heibox.uni-heidelberg.de)|129.206.7.113|:443... connected.\n",
            "HTTP request sent, awaiting response... 302 Found\n",
            "Location: https://heibox.uni-heidelberg.de/seafhttp/files/d49c24a3-89d0-433b-a52d-901c9bc0c6fe/covid2_lem.txt.zip [following]\n",
            "--2021-09-23 11:00:15--  https://heibox.uni-heidelberg.de/seafhttp/files/d49c24a3-89d0-433b-a52d-901c9bc0c6fe/covid2_lem.txt.zip\n",
            "Reusing existing connection to heibox.uni-heidelberg.de:443.\n",
            "HTTP request sent, awaiting response... 200 OK\n",
            "Length: 177450444 (169M) [application/zip]\n",
            "Saving to: ‘index.html?dl=1’\n",
            "\n",
            "index.html?dl=1     100%[===================>] 169.23M  14.9MB/s    in 12s     \n",
            "\n",
            "2021-09-23 11:00:27 (14.6 MB/s) - ‘index.html?dl=1’ saved [177450444/177450444]\n",
            "\n",
            "--2021-09-23 11:00:27--  https://heibox.uni-heidelberg.de/f/062f72f9e79e4ba5ae4e/?dl=1\n",
            "Resolving heibox.uni-heidelberg.de (heibox.uni-heidelberg.de)... 129.206.7.113\n",
            "Connecting to heibox.uni-heidelberg.de (heibox.uni-heidelberg.de)|129.206.7.113|:443... connected.\n",
            "HTTP request sent, awaiting response... 302 Found\n",
            "Location: https://heibox.uni-heidelberg.de/seafhttp/files/a39d3159-f50f-44c2-990a-650d1b458cf0/covid3_lem.txt.zip [following]\n",
            "--2021-09-23 11:00:28--  https://heibox.uni-heidelberg.de/seafhttp/files/a39d3159-f50f-44c2-990a-650d1b458cf0/covid3_lem.txt.zip\n",
            "Reusing existing connection to heibox.uni-heidelberg.de:443.\n",
            "HTTP request sent, awaiting response... 200 OK\n",
            "Length: 177304922 (169M) [application/zip]\n",
            "Saving to: ‘index.html?dl=1’\n",
            "\n",
            "index.html?dl=1     100%[===================>] 169.09M  14.9MB/s    in 11s     \n",
            "\n",
            "2021-09-23 11:00:40 (14.7 MB/s) - ‘index.html?dl=1’ saved [177304922/177304922]\n",
            "\n",
            "--2021-09-23 11:00:40--  https://heibox.uni-heidelberg.de/f/4e290ad989a046caaef4/?dl=1\n",
            "Resolving heibox.uni-heidelberg.de (heibox.uni-heidelberg.de)... 129.206.7.113\n",
            "Connecting to heibox.uni-heidelberg.de (heibox.uni-heidelberg.de)|129.206.7.113|:443... connected.\n",
            "HTTP request sent, awaiting response... 302 Found\n",
            "Location: https://heibox.uni-heidelberg.de/seafhttp/files/f69b127c-ae83-4923-bdbf-5e6b2fb99a65/covid4_lem.txt.zip [following]\n",
            "--2021-09-23 11:00:41--  https://heibox.uni-heidelberg.de/seafhttp/files/f69b127c-ae83-4923-bdbf-5e6b2fb99a65/covid4_lem.txt.zip\n",
            "Reusing existing connection to heibox.uni-heidelberg.de:443.\n",
            "HTTP request sent, awaiting response... 200 OK\n",
            "Length: 177291555 (169M) [application/zip]\n",
            "Saving to: ‘index.html?dl=1’\n",
            "\n",
            "index.html?dl=1     100%[===================>] 169.08M  13.1MB/s    in 12s     \n",
            "\n",
            "2021-09-23 11:00:53 (14.1 MB/s) - ‘index.html?dl=1’ saved [177291555/177291555]\n",
            "\n",
            "--2021-09-23 11:00:53--  https://heibox.uni-heidelberg.de/f/5ec055c8956348d98a44/?dl=1\n",
            "Resolving heibox.uni-heidelberg.de (heibox.uni-heidelberg.de)... 129.206.7.113\n",
            "Connecting to heibox.uni-heidelberg.de (heibox.uni-heidelberg.de)|129.206.7.113|:443... connected.\n",
            "HTTP request sent, awaiting response... 302 Found\n",
            "Location: https://heibox.uni-heidelberg.de/seafhttp/files/46f8480c-6984-42f9-ae67-da058c9f543d/covid5_lem.txt.zip [following]\n",
            "--2021-09-23 11:00:54--  https://heibox.uni-heidelberg.de/seafhttp/files/46f8480c-6984-42f9-ae67-da058c9f543d/covid5_lem.txt.zip\n",
            "Reusing existing connection to heibox.uni-heidelberg.de:443.\n",
            "HTTP request sent, awaiting response... 200 OK\n",
            "Length: 165382404 (158M) [application/zip]\n",
            "Saving to: ‘index.html?dl=1’\n",
            "\n",
            "index.html?dl=1     100%[===================>] 157.72M  14.9MB/s    in 11s     \n",
            "\n",
            "2021-09-23 11:01:05 (14.6 MB/s) - ‘index.html?dl=1’ saved [165382404/165382404]\n",
            "\n",
            "Archive:  file1.zip\n",
            "  inflating: covid1_lem.txt          \n",
            "Archive:  file2.zip\n",
            "  inflating: covid2_lem.txt          \n",
            "Archive:  file3.zip\n",
            "  inflating: covid3_lem.txt          \n",
            "Archive:  file4.zip\n",
            "  inflating: covid4_lem.txt          \n",
            "Archive:  file5.zip\n",
            "  inflating: covid5_lem.txt          \n"
          ]
        }
      ]
    },
    {
      "cell_type": "code",
      "metadata": {
        "id": "t5f79XcHIFKf"
      },
      "source": [
        "!rm file*.zip\n",
        "# choose if you want to run on a full corpus or part of it\n",
        "# !cat covid1_lem.txt covid2_lem.txt covid3_lem.txt covid4_lem.txt covid5_lem.txt >covid_lem.txt\n",
        "!cat covid1_lem.txt >covid_lem.txt\n",
        "!cp covid_lem.txt /usr/local/lib/python3.7/dist-packages/gensim/test/test_data/myOwnLangText8.txt\n",
        "!head --lines=15 /usr/local/lib/python3.7/dist-packages/gensim/test/test_data/myOwnLangText8.txt\n",
        "\n",
        "!head --lines=10 covid_lem.txt\n",
        "!wc covid_lem.txt\n",
        "!rm covid_lem.txt\n",
        "\n"
      ],
      "execution_count": null,
      "outputs": []
    },
    {
      "cell_type": "markdown",
      "metadata": {
        "id": "-AJ9guGSNkyw"
      },
      "source": [
        "### Stage6: Training own model"
      ]
    },
    {
      "cell_type": "markdown",
      "metadata": {
        "id": "kCj_-BYcOe7A"
      },
      "source": [
        "optional: to clean disk space, we remove the downloaded file"
      ]
    },
    {
      "cell_type": "code",
      "metadata": {
        "id": "NnO8k3CWOdqK",
        "colab": {
          "base_uri": "https://localhost:8080/"
        },
        "outputId": "dda147a8-4ac1-403f-ad5a-7a157795fcee"
      },
      "source": [
        "# optional: to clean disk space, we remove the downloaded file\n",
        "!rm index.html\\?dl\\=1"
      ],
      "execution_count": 4,
      "outputs": [
        {
          "output_type": "stream",
          "name": "stdout",
          "text": [
            "rm: cannot remove 'index.html?dl=1': No such file or directory\n"
          ]
        }
      ]
    },
    {
      "cell_type": "code",
      "metadata": {
        "id": "3AAzBAWaPQZB"
      },
      "source": [
        "from gensim.test.utils import datapath\n",
        "from gensim import utils\n",
        "\n",
        "class MyCorpus:\n",
        "    \"\"\"An iterator that yields sentences (lists of str).\"\"\"\n",
        "\n",
        "    def __iter__(self):\n",
        "        corpus_path = datapath('myOwnLangText8.txt')\n",
        "        for line in open(corpus_path):\n",
        "            # assume there's one document per line, tokens separated by whitespace\n",
        "            yield utils.simple_preprocess(line)"
      ],
      "execution_count": 5,
      "outputs": []
    },
    {
      "cell_type": "code",
      "metadata": {
        "id": "i9VFjEuyQQ1u"
      },
      "source": [
        "import gensim.models\n",
        "corpusOwn = MyCorpus()"
      ],
      "execution_count": 6,
      "outputs": []
    },
    {
      "cell_type": "markdown",
      "metadata": {
        "id": "DARUsusgQyWO"
      },
      "source": [
        "optional: examining what is in the corpus after standard preprocessing"
      ]
    },
    {
      "cell_type": "code",
      "metadata": {
        "id": "-tLeaX0rQiD7",
        "colab": {
          "base_uri": "https://localhost:8080/"
        },
        "outputId": "17f75d18-fee9-4b0c-f05c-6e888bfc9581"
      },
      "source": [
        "# Optional: Examining our corpus format\n",
        "type(corpusOwn)"
      ],
      "execution_count": 7,
      "outputs": [
        {
          "output_type": "execute_result",
          "data": {
            "text/plain": [
              "__main__.MyCorpus"
            ]
          },
          "metadata": {},
          "execution_count": 7
        }
      ]
    },
    {
      "cell_type": "code",
      "metadata": {
        "id": "zSzwUYw_QxYD"
      },
      "source": [
        "dataOwn = [d for d in corpusOwn]"
      ],
      "execution_count": 8,
      "outputs": []
    },
    {
      "cell_type": "code",
      "metadata": {
        "id": "4YWSko1SRLJl"
      },
      "source": [
        "print(len(dataOwn))\n",
        "print(dataOwn[0])\n",
        "print(len(dataOwn[0]))\n",
        "print(dataOwn[4])\n",
        "print(len(dataOwn[4]))\n",
        "print(dataOwn[5])\n",
        "print(len(dataOwn[5]))"
      ],
      "execution_count": null,
      "outputs": []
    },
    {
      "cell_type": "markdown",
      "metadata": {
        "id": "468wJ6YkVNad"
      },
      "source": [
        "... Initialising global parameters for our modelL vector size, collocation window, skip-grams, negative sampling...."
      ]
    },
    {
      "cell_type": "code",
      "metadata": {
        "id": "sJBwk5p9K4C0"
      },
      "source": [
        "del dataOwn"
      ],
      "execution_count": 10,
      "outputs": []
    },
    {
      "cell_type": "code",
      "metadata": {
        "id": "h8Eep9wyHh9d"
      },
      "source": [
        "from gensim.models import Word2Vec # The word2vec model class\n",
        "import gensim.downloader as api # Allows us to download some free training data"
      ],
      "execution_count": 11,
      "outputs": []
    },
    {
      "cell_type": "code",
      "metadata": {
        "id": "xObhQQ2SVBDn"
      },
      "source": [
        "vector_size = 100 # Dimensionality of the word vectors\n",
        "window = 5 # How many words either side? (5 = 5 context words either side, i.e. 10 context words in total)\n",
        "use_skip_gram = 1 # If you set this to 0, then it will create a 'continuous bag of words' model instead\n",
        "use_softmax = 0 # If you set this to 1, then hierarchical softmax will be used instead of negative sampling\n",
        "negative_samples = 5 # How many incorrect answers to generate per correct answer when negative sampling\n",
        "\n",
        "modelOwn = Word2Vec(\n",
        "    size=vector_size,\n",
        "    window=window,\n",
        "    sg=use_skip_gram,\n",
        "    hs=use_softmax,\n",
        "    negative=negative_samples\n",
        ")"
      ],
      "execution_count": 12,
      "outputs": []
    },
    {
      "cell_type": "markdown",
      "metadata": {
        "id": "e_QILgoIVeea"
      },
      "source": [
        "... this cell may run for ~2 min or so..."
      ]
    },
    {
      "cell_type": "code",
      "metadata": {
        "id": "gaecmdkPVLCh"
      },
      "source": [
        "modelOwn.build_vocab(corpusOwn)"
      ],
      "execution_count": 13,
      "outputs": []
    },
    {
      "cell_type": "markdown",
      "metadata": {
        "id": "HEdwCKEVVnGv"
      },
      "source": [
        "THIS MAY TAKE LONG!!! ... training the model may take 9 to 15 minutes... (just grab a cup of coffee or a sandwich while you are waiting... You may try chaning the number of epochs; if the number is lower the training is faster, but the quality may be lower...\n",
        "\n",
        "5 epochs = 50 min\n",
        "8 epochs = 1 h 17 min (77 min)\n",
        "10 epochs ~? 100 min ~ 1h 40 min?"
      ]
    },
    {
      "cell_type": "code",
      "metadata": {
        "id": "UrvDUrOJVxOG",
        "colab": {
          "base_uri": "https://localhost:8080/"
        },
        "outputId": "ece2540d-2ea7-4a74-eb90-d0cdda098d99"
      },
      "source": [
        "modelOwn.train(sentences=corpusOwn, epochs=5, total_examples=modelOwn.corpus_count)"
      ],
      "execution_count": 15,
      "outputs": [
        {
          "output_type": "execute_result",
          "data": {
            "text/plain": [
              "(327857491, 430555160)"
            ]
          },
          "metadata": {},
          "execution_count": 15
        }
      ]
    },
    {
      "cell_type": "markdown",
      "metadata": {
        "id": "trrJqAeUWWmL"
      },
      "source": [
        "Now we copy word vectors and remove the model from memory (just to free up the resources...)"
      ]
    },
    {
      "cell_type": "code",
      "metadata": {
        "id": "h2GbyMw5WVZd"
      },
      "source": [
        "word_vectors_own = modelOwn.wv"
      ],
      "execution_count": 16,
      "outputs": []
    },
    {
      "cell_type": "code",
      "metadata": {
        "id": "vjLyitW5Whff"
      },
      "source": [
        "del modelOwn"
      ],
      "execution_count": 17,
      "outputs": []
    },
    {
      "cell_type": "code",
      "metadata": {
        "colab": {
          "base_uri": "https://localhost:8080/"
        },
        "id": "k_AGZILaYvAJ",
        "outputId": "d50590a1-8b9d-4023-801a-69ffc1739498"
      },
      "source": [
        "vector = word_vectors_own['however']\n",
        "print(vector)"
      ],
      "execution_count": 18,
      "outputs": [
        {
          "output_type": "stream",
          "name": "stdout",
          "text": [
            "[ 0.2999523   0.00507559  0.15131144 -0.07528983 -0.035941   -0.02529385\n",
            " -0.07168911 -0.13919438  0.20991462 -0.16258715  0.02627874 -0.02746793\n",
            " -0.16703819  0.07035314 -0.09768949  0.12752543 -0.1560568   0.04788357\n",
            "  0.01793312 -0.48300648  0.08098958 -0.19535112 -0.0362961   0.25033754\n",
            "  0.14483443 -0.03639713 -0.1996055  -0.14844444 -0.03271531 -0.10175508\n",
            "  0.10019579 -0.02763664 -0.23630518  0.02806071  0.03589053  0.24700439\n",
            " -0.19164954  0.16862157  0.04291934  0.12984382  0.36849782 -0.01582056\n",
            " -0.02674191  0.1552228  -0.05113675  0.18827397 -0.12597239  0.00640994\n",
            "  0.00298122  0.04760767  0.06148158 -0.31670624 -0.00990818 -0.01038395\n",
            "  0.08855998 -0.02595017  0.01368934  0.3158342  -0.20049873 -0.10747676\n",
            " -0.06330044 -0.16351698  0.07373974  0.13731931 -0.27989104  0.13007039\n",
            " -0.14383617  0.22054815  0.40733272 -0.03857487 -0.20416139 -0.02922805\n",
            "  0.27206305  0.20417348 -0.02094791 -0.12935399  0.19621475 -0.2918488\n",
            " -0.12379066 -0.12237886 -0.44410846 -0.01557763 -0.03217509  0.40595797\n",
            "  0.16241215 -0.07309804  0.17646138 -0.34133035  0.26409408 -0.14091949\n",
            " -0.23120226 -0.00121988  0.00654647 -0.1792009   0.07009783  0.03155336\n",
            "  0.0957622  -0.17864606  0.24456184 -0.3905505 ]\n"
          ]
        }
      ]
    },
    {
      "cell_type": "code",
      "metadata": {
        "colab": {
          "base_uri": "https://localhost:8080/"
        },
        "id": "qgbKj9mUY2Ic",
        "outputId": "0f921e43-3e98-4bb2-a61f-c16e549ed360"
      },
      "source": [
        "similar_words = word_vectors_own.most_similar('however', topn=30)\n",
        "print('\\n'.join([str(tup) for tup in similar_words]))"
      ],
      "execution_count": 19,
      "outputs": [
        {
          "output_type": "stream",
          "name": "stdout",
          "text": [
            "('although', 0.9481406807899475)\n",
            "('nevertheless', 0.8623238205909729)\n",
            "('moreover', 0.8193609118461609)\n",
            "('but', 0.8131380081176758)\n",
            "('nonetheless', 0.8109983205795288)\n",
            "('furthermore', 0.810897946357727)\n",
            "('while', 0.8093498349189758)\n",
            "('unfortunately', 0.7827649116516113)\n",
            "('still', 0.7653708457946777)\n",
            "('therefore', 0.746903657913208)\n",
            "('since', 0.7339685559272766)\n",
            "('because', 0.7302439212799072)\n",
            "('though', 0.7266584634780884)\n",
            "('despite', 0.72620689868927)\n",
            "('surprisingly', 0.7255418300628662)\n",
            "('indeed', 0.7202674150466919)\n",
            "('only', 0.7201317548751831)\n",
            "('importantly', 0.7064002752304077)\n",
            "('have', 0.7031653523445129)\n",
            "('thus', 0.700994610786438)\n",
            "('notwithstanding', 0.6940008997917175)\n",
            "('also', 0.6939895153045654)\n",
            "('additionally', 0.6919841766357422)\n",
            "('fortunately', 0.6898065805435181)\n",
            "('that', 0.6865343451499939)\n",
            "('interestingly', 0.6832019686698914)\n",
            "('presently', 0.6825215220451355)\n",
            "('controversial', 0.680540919303894)\n",
            "('unclear', 0.6803107261657715)\n",
            "('yet', 0.6794021725654602)\n"
          ]
        }
      ]
    },
    {
      "cell_type": "markdown",
      "metadata": {
        "id": "q-ipjoSmWtOR"
      },
      "source": [
        "Now we can examine the output of our word embeddings"
      ]
    },
    {
      "cell_type": "code",
      "metadata": {
        "id": "Q60fDwHXI3RL",
        "colab": {
          "base_uri": "https://localhost:8080/"
        },
        "outputId": "fc49f511-51fe-4761-fc68-aa1f0415da36"
      },
      "source": [
        "# x is to king as woman is to man\n",
        "# x = small + biggest - big\n",
        "# 𝑥−𝑣𝑒𝑐𝑡𝑜𝑟(′𝑠𝑚𝑎𝑙𝑙′)=𝑣𝑒𝑐𝑡𝑜𝑟(′𝑏𝑖𝑔𝑔𝑒𝑠𝑡′)−𝑣𝑒𝑐𝑡𝑜𝑟(′𝑏𝑖𝑔′) \n",
        "# ∴ 𝑥=𝑣𝑒𝑐𝑡𝑜𝑟(′𝑠𝑚𝑎𝑙𝑙′)+𝑣𝑒𝑐𝑡𝑜𝑟(′𝑏𝑖𝑔𝑔𝑒𝑠𝑡′)−𝑣𝑒𝑐𝑡𝑜𝑟(′𝑏𝑖𝑔′) \n",
        "# ∴ 𝑥=𝑣𝑒𝑐𝑡𝑜𝑟(′փոքր′)+𝑣𝑒𝑐𝑡𝑜𝑟(′ամենամեծը′)−𝑣𝑒𝑐𝑡𝑜𝑟(′մեծ′) \n",
        "analogous_words = word_vectors_own.most_similar(negative=['doctor'], positive=['hospital','pharmacist'])\n",
        "print('\\n'.join([str(tup) for tup in analogous_words]))"
      ],
      "execution_count": 24,
      "outputs": [
        {
          "output_type": "stream",
          "name": "stdout",
          "text": [
            "('pharmacy', 0.6780515909194946)\n",
            "('hospitals', 0.6624459028244019)\n",
            "('inpatient', 0.6455151438713074)\n",
            "('asu', 0.6342335939407349)\n",
            "('icus', 0.6335320472717285)\n",
            "('newyork', 0.6304795742034912)\n",
            "('montfermeil', 0.6225343942642212)\n",
            "('nych', 0.6184860467910767)\n",
            "('groote', 0.6143211126327515)\n",
            "('mtuth', 0.6115469336509705)\n"
          ]
        }
      ]
    },
    {
      "cell_type": "code",
      "metadata": {
        "id": "czmhvtc-JB4C"
      },
      "source": [
        "# try your own examples... (also -- morphology?)\n",
        "# # x is to daughter as people is to person (plural + daughter)\n",
        "# analogous_words = word_vectors.most_similar(negative=['person'], positive=['people','daughter'])"
      ],
      "execution_count": null,
      "outputs": []
    }
  ]
}